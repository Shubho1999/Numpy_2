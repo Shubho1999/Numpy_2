{
  "nbformat": 4,
  "nbformat_minor": 0,
  "metadata": {
    "colab": {
      "name": "Copy of numpy-assignment-4.ipynb",
      "provenance": []
    },
    "kernelspec": {
      "name": "python3",
      "display_name": "Python 3"
    }
  },
  "cells": [
    {
      "cell_type": "code",
      "metadata": {
        "id": "LYAs5f4MUyqX",
        "colab_type": "code",
        "colab": {}
      },
      "source": [
        "import numpy as np"
      ],
      "execution_count": 0,
      "outputs": []
    },
    {
      "cell_type": "code",
      "metadata": {
        "id": "kith96zaU3v4",
        "colab_type": "code",
        "outputId": "8052e878-5b16-4553-c658-ac122f67d61b",
        "colab": {
          "base_uri": "https://localhost:8080/",
          "height": 85
        }
      },
      "source": [
        "arr1=np.arange(20).reshape(4,5)\n",
        "arr1"
      ],
      "execution_count": 0,
      "outputs": [
        {
          "output_type": "execute_result",
          "data": {
            "text/plain": [
              "array([[ 0,  1,  2,  3,  4],\n",
              "       [ 5,  6,  7,  8,  9],\n",
              "       [10, 11, 12, 13, 14],\n",
              "       [15, 16, 17, 18, 19]])"
            ]
          },
          "metadata": {
            "tags": []
          },
          "execution_count": 19
        }
      ]
    },
    {
      "cell_type": "code",
      "metadata": {
        "id": "hSQuEs7WVpXk",
        "colab_type": "code",
        "colab": {}
      },
      "source": [
        "# Q1 Write a numpy code to swap col1([0,5,10,15]) with col4([3,8,13,18])\n",
        "# Hint----> Fancy Indexing"
      ],
      "execution_count": 0,
      "outputs": []
    },
    {
      "cell_type": "code",
      "metadata": {
        "id": "iU_BJTgDJ3uP",
        "colab_type": "code",
        "colab": {}
      },
      "source": [
        "arr8=arr1.copy()\n",
        "arr8[:,[0, 3]] = arr8[:,[3, 0]]\n"
      ],
      "execution_count": 0,
      "outputs": []
    },
    {
      "cell_type": "code",
      "metadata": {
        "id": "7FLC7pmjLfc9",
        "colab_type": "code",
        "outputId": "833f422c-f7ff-40c0-df0e-fe234d2eb991",
        "colab": {
          "base_uri": "https://localhost:8080/",
          "height": 85
        }
      },
      "source": [
        "arr8"
      ],
      "execution_count": 0,
      "outputs": [
        {
          "output_type": "execute_result",
          "data": {
            "text/plain": [
              "array([[ 3,  1,  2,  0,  4],\n",
              "       [ 8,  6,  7,  5,  9],\n",
              "       [13, 11, 12, 10, 14],\n",
              "       [18, 16, 17, 15, 19]])"
            ]
          },
          "metadata": {
            "tags": []
          },
          "execution_count": 15
        }
      ]
    },
    {
      "cell_type": "code",
      "metadata": {
        "id": "qzrMoxJSWOEm",
        "colab_type": "code",
        "colab": {}
      },
      "source": [
        "# Q2 Write a numpy code to reverse the rows of arr1\n",
        "# The output should be [15, 16, 17, 18, 19] as first row and [ 0,  1,  2,  3,  4] as last row"
      ],
      "execution_count": 0,
      "outputs": []
    },
    {
      "cell_type": "code",
      "metadata": {
        "id": "JLa04UfNLs6S",
        "colab_type": "code",
        "outputId": "aa47dbaa-be80-473b-fb43-0518a990be85",
        "colab": {
          "base_uri": "https://localhost:8080/",
          "height": 85
        }
      },
      "source": [
        "arr1"
      ],
      "execution_count": 0,
      "outputs": [
        {
          "output_type": "execute_result",
          "data": {
            "text/plain": [
              "array([[ 0,  1,  2,  3,  4],\n",
              "       [ 5,  6,  7,  8,  9],\n",
              "       [10, 11, 12, 13, 14],\n",
              "       [15, 16, 17, 18, 19]])"
            ]
          },
          "metadata": {
            "tags": []
          },
          "execution_count": 21
        }
      ]
    },
    {
      "cell_type": "code",
      "metadata": {
        "id": "rMhafstGL1iq",
        "colab_type": "code",
        "colab": {}
      },
      "source": [
        "arr1[[0, 3]] = arr1[[3, 0]]"
      ],
      "execution_count": 0,
      "outputs": []
    },
    {
      "cell_type": "code",
      "metadata": {
        "id": "HC0dbRiWMMmX",
        "colab_type": "code",
        "outputId": "3ae6f567-ad45-41e9-a65c-1035558f6b9e",
        "colab": {
          "base_uri": "https://localhost:8080/",
          "height": 85
        }
      },
      "source": [
        "arr1"
      ],
      "execution_count": 0,
      "outputs": [
        {
          "output_type": "execute_result",
          "data": {
            "text/plain": [
              "array([[15, 16, 17, 18, 19],\n",
              "       [ 5,  6,  7,  8,  9],\n",
              "       [10, 11, 12, 13, 14],\n",
              "       [ 0,  1,  2,  3,  4]])"
            ]
          },
          "metadata": {
            "tags": []
          },
          "execution_count": 23
        }
      ]
    },
    {
      "cell_type": "code",
      "metadata": {
        "id": "qU9DW6vQWivF",
        "colab_type": "code",
        "outputId": "e4a85801-2e36-49e7-c3b9-a37f0085e899",
        "colab": {
          "base_uri": "https://localhost:8080/",
          "height": 68
        }
      },
      "source": [
        "arr2=np.array([[1,2,np.nan],[4,5,6],[np.nan,np.nan,9]])\n",
        "arr2"
      ],
      "execution_count": 0,
      "outputs": [
        {
          "output_type": "execute_result",
          "data": {
            "text/plain": [
              "array([[ 1.,  2., nan],\n",
              "       [ 4.,  5.,  6.],\n",
              "       [nan, nan,  9.]])"
            ]
          },
          "metadata": {
            "tags": []
          },
          "execution_count": 44
        }
      ]
    },
    {
      "cell_type": "code",
      "metadata": {
        "id": "V9pLugRlXZCV",
        "colab_type": "code",
        "colab": {}
      },
      "source": [
        "# Q3 Write a code to replace all the nan(missing values) of arr2 with the mean of arr2"
      ],
      "execution_count": 0,
      "outputs": []
    },
    {
      "cell_type": "code",
      "metadata": {
        "id": "NphBDC3CMUBP",
        "colab_type": "code",
        "colab": {}
      },
      "source": [
        "arr2_mean = np.nanmean(arr2)"
      ],
      "execution_count": 0,
      "outputs": []
    },
    {
      "cell_type": "code",
      "metadata": {
        "id": "O8h9i0TXXds8",
        "colab_type": "code",
        "outputId": "26ebf1a0-9b2a-444b-975e-a0ad369d827a",
        "colab": {
          "base_uri": "https://localhost:8080/",
          "height": 34
        }
      },
      "source": [
        "arr2_mean"
      ],
      "execution_count": 0,
      "outputs": [
        {
          "output_type": "execute_result",
          "data": {
            "text/plain": [
              "4.5"
            ]
          },
          "metadata": {
            "tags": []
          },
          "execution_count": 48
        }
      ]
    },
    {
      "cell_type": "code",
      "metadata": {
        "id": "KH9cBqwB2NMK",
        "colab_type": "code",
        "colab": {}
      },
      "source": [
        "arr2[np.isnan(arr2)]=4.5"
      ],
      "execution_count": 0,
      "outputs": []
    },
    {
      "cell_type": "code",
      "metadata": {
        "id": "gV6p9x-HOVcn",
        "colab_type": "code",
        "outputId": "5f350c0b-76e6-4456-8d08-9ccf40ff181e",
        "colab": {
          "base_uri": "https://localhost:8080/",
          "height": 68
        }
      },
      "source": [
        "arr2"
      ],
      "execution_count": 0,
      "outputs": [
        {
          "output_type": "execute_result",
          "data": {
            "text/plain": [
              "array([[1. , 2. , 4.5],\n",
              "       [4. , 5. , 6. ],\n",
              "       [4.5, 4.5, 9. ]])"
            ]
          },
          "metadata": {
            "tags": []
          },
          "execution_count": 61
        }
      ]
    },
    {
      "cell_type": "code",
      "metadata": {
        "id": "F3tUsOivZ6Wf",
        "colab_type": "code",
        "outputId": "43784ed7-85b3-4b7d-aeaf-185453668334",
        "colab": {
          "base_uri": "https://localhost:8080/",
          "height": 102
        }
      },
      "source": [
        "arr3=np.random.randint(low=1,high=100,size=20).reshape(5,4)\n",
        "arr3"
      ],
      "execution_count": 0,
      "outputs": [
        {
          "output_type": "execute_result",
          "data": {
            "text/plain": [
              "array([[75,  5, 28, 96],\n",
              "       [86, 76, 19, 70],\n",
              "       [36, 71, 70, 27],\n",
              "       [42, 56, 16, 74],\n",
              "       [31, 92, 71,  8]])"
            ]
          },
          "metadata": {
            "tags": []
          },
          "execution_count": 28
        }
      ]
    },
    {
      "cell_type": "code",
      "metadata": {
        "id": "HzeC03N6aQpx",
        "colab_type": "code",
        "colab": {}
      },
      "source": [
        "# Q4 Write a code which can fetch all items from arr3 which are either greater than 25 or a multiple of 3"
      ],
      "execution_count": 0,
      "outputs": []
    },
    {
      "cell_type": "code",
      "metadata": {
        "id": "mLKYk_b4P2Po",
        "colab_type": "code",
        "colab": {}
      },
      "source": [
        "result = arr3[(arr3>25) | (arr3 %3==0)]"
      ],
      "execution_count": 0,
      "outputs": []
    },
    {
      "cell_type": "code",
      "metadata": {
        "id": "Tzj7vKRzObaX",
        "colab_type": "code",
        "outputId": "82ebf715-268b-4180-ae74-4a23f6b0aa81",
        "colab": {
          "base_uri": "https://localhost:8080/",
          "height": 34
        }
      },
      "source": [
        "result"
      ],
      "execution_count": 0,
      "outputs": [
        {
          "output_type": "execute_result",
          "data": {
            "text/plain": [
              "array([75, 28, 96, 86, 76, 70, 36, 71, 70, 27, 42, 56, 74, 31, 92, 71])"
            ]
          },
          "metadata": {
            "tags": []
          },
          "execution_count": 38
        }
      ]
    },
    {
      "cell_type": "code",
      "metadata": {
        "id": "PxcxU2ACa9Ri",
        "colab_type": "code",
        "colab": {}
      },
      "source": [
        "# Q5 Write a code to find the 10th, 25th, 50th(median) percentile of arr3\n",
        "# Percentiles are a very important concept in Statistics. If you don't know about it refer the video below\n",
        "# https://www.youtube.com/watch?v=Snf6Wpn-L4c\n",
        "# Hint: to solve this function google np.percentile()"
      ],
      "execution_count": 0,
      "outputs": []
    },
    {
      "cell_type": "code",
      "metadata": {
        "id": "_8moTHWYcDCt",
        "colab_type": "code",
        "outputId": "d94592c0-29db-4e96-a71e-cca17582f60e",
        "colab": {
          "base_uri": "https://localhost:8080/",
          "height": 153
        }
      },
      "source": [
        "print(\"arr : \", arr3)  \n",
        "print(\"10th percentile of arr : \",  \n",
        "       np.percentile(arr3, 10)) \n",
        "print(\"25th percentile of arr : \", \n",
        "       np.percentile(arr3, 25)) \n",
        "print(\"50th percentile of arr : \", \n",
        "       np.percentile(arr3, 50)) "
      ],
      "execution_count": 0,
      "outputs": [
        {
          "output_type": "stream",
          "text": [
            "arr :  [[75  5 28 96]\n",
            " [86 76 19 70]\n",
            " [36 71 70 27]\n",
            " [42 56 16 74]\n",
            " [31 92 71  8]]\n",
            "10th percentile of arr :  15.200000000000001\n",
            "25th percentile of arr :  27.75\n",
            "50th percentile of arr :  63.0\n"
          ],
          "name": "stdout"
        }
      ]
    }
  ]
}