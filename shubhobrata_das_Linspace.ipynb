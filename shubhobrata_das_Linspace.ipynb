{
  "nbformat": 4,
  "nbformat_minor": 0,
  "metadata": {
    "colab": {
      "name": "shubhobrata das - Linspace.ipynb",
      "provenance": []
    },
    "kernelspec": {
      "name": "python3",
      "display_name": "Python 3"
    }
  },
  "cells": [
    {
      "cell_type": "code",
      "metadata": {
        "id": "PQeF5H_AzMS0",
        "colab_type": "code",
        "colab": {}
      },
      "source": [
        "def linspacce():\n",
        "  val1=int(input(\"Enter the lower value\"))\n",
        "  val2=int(input(\"Enter the upper value\"))\n",
        "  val3=int(input(\"Enter the spaces\"))\n",
        "  x=val2-val1\n",
        "  y=x/val3\n",
        "  while(1):\n",
        "    val4=val1+y\n",
        "    val1=val4\n",
        "    if(val1<=val2):\n",
        "      print(val4,sep = \"\\n\")\n",
        "    else:\n",
        "        break\n",
        "\n"
      ],
      "execution_count": 0,
      "outputs": []
    },
    {
      "cell_type": "code",
      "metadata": {
        "id": "8BO4z-K10i8u",
        "colab_type": "code",
        "outputId": "1765015d-73cc-44df-80a2-c5c75754488e",
        "colab": {
          "base_uri": "https://localhost:8080/",
          "height": 153
        }
      },
      "source": [
        "linspacce()"
      ],
      "execution_count": 0,
      "outputs": [
        {
          "output_type": "stream",
          "text": [
            "Enter the lower value5\n",
            "Enter the upper value25\n",
            "Enter the spaces5\n",
            "9.0\n",
            "13.0\n",
            "17.0\n",
            "21.0\n",
            "25.0\n"
          ],
          "name": "stdout"
        }
      ]
    }
  ]
}